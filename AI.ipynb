{
  "cells": [
    {
      "cell_type": "markdown",
      "metadata": {
        "id": "view-in-github",
        "colab_type": "text"
      },
      "source": [
        "<a href=\"https://colab.research.google.com/github/gulizhasan/ImageClassification/blob/main/AI.ipynb\" target=\"_parent\"><img src=\"https://colab.research.google.com/assets/colab-badge.svg\" alt=\"Open In Colab\"/></a>"
      ]
    },
    {
      "cell_type": "code",
      "execution_count": null,
      "metadata": {
        "colab": {
          "base_uri": "https://localhost:8080/"
        },
        "id": "z6a0gXBByOju",
        "outputId": "e149a550-4c4a-4b87-86e4-79e83dca064b"
      },
      "outputs": [
        {
          "name": "stdout",
          "output_type": "stream",
          "text": [
            "Training set shape (features): (40000, 32, 32, 3)\n",
            "Training set shape (labels): (40000, 10)\n",
            "Validation set shape (features): (10000, 32, 32, 3)\n",
            "Validation set shape (labels): (10000, 10)\n",
            "Test set shape (features): (10000, 32, 32, 3)\n",
            "Test set shape (labels): (10000, 10)\n"
          ]
        }
      ],
      "source": [
        "# Import necessary libraries\n",
        "import tensorflow as tf\n",
        "from sklearn.model_selection import train_test_split\n",
        "\n",
        "# Load the CIFAR-10 dataset\n",
        "(x_train_full, y_train_full), (x_test, y_test) = tf.keras.datasets.cifar10.load_data()\n",
        "\n",
        "# Split the full training set into training and validation sets (80% training, 20% validation)\n",
        "x_train, x_val, y_train, y_val = train_test_split(x_train_full, y_train_full, test_size=0.2, random_state=42)\n",
        "\n",
        "# Normalize the images\n",
        "x_train = x_train.astype('float32') / 255\n",
        "x_val = x_val.astype('float32') / 255\n",
        "x_test = x_test.astype('float32') / 255\n",
        "\n",
        "# One-hot encode the labels\n",
        "num_classes = 10\n",
        "y_train = tf.keras.utils.to_categorical(y_train, num_classes)\n",
        "y_val = tf.keras.utils.to_categorical(y_val, num_classes)\n",
        "y_test = tf.keras.utils.to_categorical(y_test, num_classes)\n",
        "\n",
        "# Data Augmentation\n",
        "datagen = tf.keras.preprocessing.image.ImageDataGenerator(\n",
        "    rotation_range=20,\n",
        "    width_shift_range=0.2,\n",
        "    height_shift_range=0.2,\n",
        "    horizontal_flip=True)\n",
        "\n",
        "# Compute quantities required for featurewise normalization\n",
        "# (std, mean, and principal components if ZCA whitening is applied)\n",
        "datagen.fit(x_train)\n",
        "\n",
        "# Print the shape of the datasets to confirm\n",
        "print(\"Training set shape (features):\", x_train.shape)\n",
        "print(\"Training set shape (labels):\", y_train.shape)\n",
        "print(\"Validation set shape (features):\", x_val.shape)\n",
        "print(\"Validation set shape (labels):\", y_val.shape)\n",
        "print(\"Test set shape (features):\", x_test.shape)\n",
        "print(\"Test set shape (labels):\", y_test.shape)\n"
      ]
    },
    {
      "cell_type": "code",
      "execution_count": null,
      "metadata": {
        "colab": {
          "base_uri": "https://localhost:8080/"
        },
        "id": "r-g59qHw102w",
        "outputId": "b36e8b32-2594-400b-f234-61126c7fe859"
      },
      "outputs": [
        {
          "name": "stdout",
          "output_type": "stream",
          "text": [
            "k-NN Validation accuracy: 0.2142\n"
          ]
        }
      ],
      "source": [
        "# k-NN\n",
        "from sklearn.neighbors import KNeighborsClassifier\n",
        "from sklearn.metrics import accuracy_score\n",
        "\n",
        "# Reshape data for k-NN\n",
        "x_train_flat = x_train.reshape(x_train.shape[0], -1)\n",
        "x_val_flat = x_val.reshape(x_val.shape[0], -1)\n",
        "x_test_flat = x_test.reshape(x_test.shape[0], -1)\n",
        "\n",
        "# Initialize k-NN classifier\n",
        "knn = KNeighborsClassifier(n_neighbors=3)\n",
        "\n",
        "# Train the classifier\n",
        "knn.fit(x_train_flat[:10000], y_train[:10000])\n",
        "\n",
        "# Predict on the validation set\n",
        "y_val_pred = knn.predict(x_val_flat)\n",
        "val_accuracy = accuracy_score(y_val, y_val_pred)\n",
        "print('k-NN Validation accuracy:', val_accuracy)\n"
      ]
    },
    {
      "cell_type": "code",
      "execution_count": null,
      "metadata": {
        "colab": {
          "base_uri": "https://localhost:8080/"
        },
        "id": "mGKV6eld2TjD",
        "outputId": "b156f1dd-a00f-4b4d-9548-84028dff61c5"
      },
      "outputs": [
        {
          "output_type": "stream",
          "name": "stdout",
          "text": [
            "Epoch 1/10\n",
            "1250/1250 [==============================] - 59s 46ms/step - loss: 1.5165 - accuracy: 0.4521 - val_loss: 1.2414 - val_accuracy: 0.5637\n",
            "Epoch 2/10\n",
            "1250/1250 [==============================] - 57s 45ms/step - loss: 1.1532 - accuracy: 0.5939 - val_loss: 1.1061 - val_accuracy: 0.6083\n",
            "Epoch 3/10\n",
            "1250/1250 [==============================] - 54s 44ms/step - loss: 1.0240 - accuracy: 0.6415 - val_loss: 1.0263 - val_accuracy: 0.6437\n",
            "Epoch 4/10\n",
            "1250/1250 [==============================] - 61s 49ms/step - loss: 0.9457 - accuracy: 0.6717 - val_loss: 0.9893 - val_accuracy: 0.6583\n",
            "Epoch 5/10\n",
            "1250/1250 [==============================] - 58s 46ms/step - loss: 0.8801 - accuracy: 0.6945 - val_loss: 0.9502 - val_accuracy: 0.6732\n",
            "Epoch 6/10\n",
            "1250/1250 [==============================] - 54s 43ms/step - loss: 0.8215 - accuracy: 0.7136 - val_loss: 0.9305 - val_accuracy: 0.6778\n",
            "Epoch 7/10\n",
            "1250/1250 [==============================] - 51s 41ms/step - loss: 0.7729 - accuracy: 0.7333 - val_loss: 0.9555 - val_accuracy: 0.6751\n",
            "Epoch 8/10\n",
            "1250/1250 [==============================] - 53s 43ms/step - loss: 0.7310 - accuracy: 0.7450 - val_loss: 0.9310 - val_accuracy: 0.6858\n",
            "Epoch 9/10\n",
            "1250/1250 [==============================] - 53s 43ms/step - loss: 0.6898 - accuracy: 0.7616 - val_loss: 0.9180 - val_accuracy: 0.6897\n",
            "Epoch 10/10\n",
            "1250/1250 [==============================] - 53s 42ms/step - loss: 0.6569 - accuracy: 0.7686 - val_loss: 0.9661 - val_accuracy: 0.6809\n"
          ]
        },
        {
          "output_type": "execute_result",
          "data": {
            "text/plain": [
              "<keras.src.callbacks.History at 0x7f9f402542b0>"
            ]
          },
          "metadata": {},
          "execution_count": 10
        }
      ],
      "source": [
        "# CNN\n",
        "from tensorflow.keras.models import Sequential\n",
        "from tensorflow.keras.layers import Conv2D, MaxPooling2D, Flatten, Dense, Dropout\n",
        "\n",
        "# Define a simple CNN model\n",
        "model_cnn = Sequential([\n",
        "    Conv2D(32, (3, 3), activation='relu', input_shape=(32, 32, 3)),\n",
        "    MaxPooling2D((2, 2)),\n",
        "    Conv2D(64, (3, 3), activation='relu'),\n",
        "    MaxPooling2D((2, 2)),\n",
        "    Flatten(),\n",
        "    Dense(64, activation='relu'),\n",
        "    Dense(10, activation='softmax')\n",
        "])\n",
        "\n",
        "# Compile the model\n",
        "model_cnn.compile(optimizer='adam', loss='categorical_crossentropy', metrics=['accuracy'])\n",
        "\n",
        "# Train the model\n",
        "model_cnn.fit(x_train, y_train, epochs=10, validation_data=(x_val, y_val))\n"
      ]
    },
    {
      "cell_type": "markdown",
      "metadata": {
        "id": "Q8KUOzjc2EEy"
      },
      "source": []
    },
    {
      "cell_type": "code",
      "execution_count": null,
      "metadata": {
        "colab": {
          "base_uri": "https://localhost:8080/"
        },
        "id": "jEVm9TTu5_OL",
        "outputId": "a3189170-8f70-40a0-c672-9c6eb1326489"
      },
      "outputs": [
        {
          "name": "stdout",
          "output_type": "stream",
          "text": [
            "Epoch 1/10\n",
            "1250/1250 [==============================] - 579s 461ms/step - loss: 2.2553 - accuracy: 0.1523 - val_loss: 2.2632 - val_accuracy: 0.1368\n",
            "Epoch 2/10\n",
            "1250/1250 [==============================] - 583s 467ms/step - loss: 2.2115 - accuracy: 0.1725 - val_loss: 2.2482 - val_accuracy: 0.1409\n",
            "Epoch 3/10\n",
            "1250/1250 [==============================] - 578s 462ms/step - loss: 2.2370 - accuracy: 0.1563 - val_loss: 2.3380 - val_accuracy: 0.0838\n",
            "Epoch 4/10\n",
            "1250/1250 [==============================] - 570s 456ms/step - loss: 2.2483 - accuracy: 0.1511 - val_loss: 2.2020 - val_accuracy: 0.1797\n",
            "Epoch 5/10\n",
            "1250/1250 [==============================] - 590s 472ms/step - loss: 2.1639 - accuracy: 0.1913 - val_loss: 2.1530 - val_accuracy: 0.2055\n",
            "Epoch 6/10\n",
            "1250/1250 [==============================] - 586s 469ms/step - loss: 2.1488 - accuracy: 0.2034 - val_loss: 2.1622 - val_accuracy: 0.1926\n",
            "Epoch 7/10\n",
            "1250/1250 [==============================] - 585s 468ms/step - loss: 2.1401 - accuracy: 0.2097 - val_loss: 2.1425 - val_accuracy: 0.2188\n",
            "Epoch 8/10\n",
            "1250/1250 [==============================] - 578s 463ms/step - loss: 2.1477 - accuracy: 0.2035 - val_loss: 2.1416 - val_accuracy: 0.2030\n",
            "Epoch 9/10\n",
            "1250/1250 [==============================] - 582s 466ms/step - loss: 2.1386 - accuracy: 0.2081 - val_loss: 2.1365 - val_accuracy: 0.2145\n",
            "Epoch 10/10\n",
            "1250/1250 [==============================] - 582s 466ms/step - loss: 2.1321 - accuracy: 0.2121 - val_loss: 2.1393 - val_accuracy: 0.2167\n"
          ]
        },
        {
          "data": {
            "text/plain": [
              "<keras.src.callbacks.History at 0x7bd88c3d6740>"
            ]
          },
          "execution_count": 6,
          "metadata": {},
          "output_type": "execute_result"
        }
      ],
      "source": [
        "# KNN\n",
        "from tensorflow.keras.layers import SimpleRNN\n",
        "\n",
        "# Reshape data for RNN\n",
        "x_train_rnn = x_train.reshape(x_train.shape[0], 32*32, 3)\n",
        "x_val_rnn = x_val.reshape(x_val.shape[0], 32*32, 3)\n",
        "\n",
        "# Define a simple RNN model\n",
        "model_rnn = Sequential([\n",
        "    SimpleRNN(50, input_shape=(32*32, 3), return_sequences=True),\n",
        "    SimpleRNN(50),\n",
        "    Dense(10, activation='softmax')\n",
        "])\n",
        "\n",
        "# Compile the model\n",
        "model_rnn.compile(optimizer='adam', loss='categorical_crossentropy', metrics=['accuracy'])\n",
        "\n",
        "# Train the model\n",
        "model_rnn.fit(x_train_rnn, y_train, epochs=10, validation_data=(x_val_rnn, y_val))\n"
      ]
    },
    {
      "cell_type": "code",
      "execution_count": null,
      "metadata": {
        "colab": {
          "background_save": true
        },
        "id": "NkgqJeguSlxX",
        "outputId": "f0eee09e-5b09-4c3c-abe7-5d19c46668f9"
      },
      "outputs": [
        {
          "name": "stdout",
          "output_type": "stream",
          "text": [
            "Validation accuracy: 0.3209\n"
          ]
        }
      ],
      "source": [
        "from sklearn.svm import SVC\n",
        "from sklearn.metrics import accuracy_score\n",
        "import numpy as np\n",
        "\n",
        "# Convert one-hot encoded labels back to integers\n",
        "y_train_integers = np.argmax(y_train[:10000], axis=1)\n",
        "y_val_integers = np.argmax(y_val, axis=1)\n",
        "\n",
        "# Initialize SVM classifier\n",
        "svm = SVC(kernel='linear')\n",
        "\n",
        "# Train the classifier on a subset of data\n",
        "svm.fit(x_train_flat[:10000], y_train_integers)\n",
        "\n",
        "# Predict on the validation set\n",
        "y_val_pred = svm.predict(x_val_flat)\n",
        "val_accuracy = accuracy_score(y_val_integers, y_val_pred)\n",
        "print('Validation accuracy:', val_accuracy)\n"
      ]
    }
  ],
  "metadata": {
    "colab": {
      "provenance": [],
      "authorship_tag": "ABX9TyOf8dVpSIdKYd9Rbn8sy/2T",
      "include_colab_link": true
    },
    "kernelspec": {
      "display_name": "Python 3",
      "name": "python3"
    },
    "language_info": {
      "name": "python"
    }
  },
  "nbformat": 4,
  "nbformat_minor": 0
}